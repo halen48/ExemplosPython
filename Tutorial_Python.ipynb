{
  "nbformat": 4,
  "nbformat_minor": 0,
  "metadata": {
    "colab": {
      "name": "Tutorial Python.ipynb",
      "provenance": [],
      "collapsed_sections": [],
      "authorship_tag": "ABX9TyPzqLcEp4Tov4Ez4mivvC6e",
      "include_colab_link": true
    },
    "kernelspec": {
      "name": "python3",
      "display_name": "Python 3"
    },
    "language_info": {
      "name": "python"
    }
  },
  "cells": [
    {
      "cell_type": "markdown",
      "metadata": {
        "id": "view-in-github",
        "colab_type": "text"
      },
      "source": [
        "<a href=\"https://colab.research.google.com/github/halen48/ExemplosPython/blob/main/Tutorial_Python.ipynb\" target=\"_parent\"><img src=\"https://colab.research.google.com/assets/colab-badge.svg\" alt=\"Open In Colab\"/></a>"
      ]
    },
    {
      "cell_type": "markdown",
      "metadata": {
        "id": "BShsQ7Qiy15Q"
      },
      "source": [
        "#Estética"
      ]
    },
    {
      "cell_type": "markdown",
      "metadata": {
        "id": "tfcK--Jkx4KK"
      },
      "source": [
        "Diferença entre o print e o display"
      ]
    },
    {
      "cell_type": "code",
      "metadata": {
        "colab": {
          "base_uri": "https://localhost:8080/",
          "height": 93
        },
        "id": "ap8GgB5gwuvT",
        "outputId": "c76b6eff-18ec-43db-d2ed-82ebee937e0f"
      },
      "source": [
        "from IPython.core.display import display, HTML\n",
        "\n",
        "string = \"<h1>oi</h1>\"\n",
        "print(HTML(string))\n",
        "display(HTML(string))\n"
      ],
      "execution_count": null,
      "outputs": [
        {
          "output_type": "stream",
          "name": "stdout",
          "text": [
            "<IPython.core.display.HTML object>\n"
          ]
        },
        {
          "output_type": "display_data",
          "data": {
            "text/html": [
              "<h1>oi</h1>"
            ],
            "text/plain": [
              "<IPython.core.display.HTML object>"
            ]
          },
          "metadata": {}
        }
      ]
    },
    {
      "cell_type": "markdown",
      "metadata": {
        "id": "NmyXdE_kyLhi"
      },
      "source": [
        "##Exemplo de slider"
      ]
    },
    {
      "cell_type": "code",
      "metadata": {
        "cellView": "form",
        "id": "DHu7JX6KyNHM"
      },
      "source": [
        "variavel1 = 0.9#@param {type:\"slider\", min:0.1, max:2, step:0.1}\n",
        "variavel2 = 100#@param {type:\"raw\"}\n",
        "variavel3 = 1003#@param {type:\"integer\"}"
      ],
      "execution_count": null,
      "outputs": []
    },
    {
      "cell_type": "markdown",
      "metadata": {
        "id": "tiBkmhjzzBXr"
      },
      "source": [
        "#Collections"
      ]
    },
    {
      "cell_type": "code",
      "metadata": {
        "id": "nvxt69mby_wQ"
      },
      "source": [
        "dicionario = {'a':0,'b':1}\n",
        "lista = [0,1]\n",
        "tupla = (0,1)"
      ],
      "execution_count": null,
      "outputs": []
    },
    {
      "cell_type": "markdown",
      "metadata": {
        "id": "-wTlDpdc0mNz"
      },
      "source": [
        "##Conteúdos"
      ]
    },
    {
      "cell_type": "code",
      "metadata": {
        "colab": {
          "base_uri": "https://localhost:8080/"
        },
        "id": "nb7oFEF5z7ly",
        "outputId": "2fe6cbf8-942a-4c25-c781-f799676f6856"
      },
      "source": [
        "print(dicionario, type(dicionario))\n",
        "print(lista, type(lista))\n",
        "print(tupla, type(tupla))\n",
        "\n",
        "print(tupla[0], lista[1])"
      ],
      "execution_count": null,
      "outputs": [
        {
          "output_type": "stream",
          "name": "stdout",
          "text": [
            "{'a': 0, 'b': 1} <class 'dict'>\n",
            "[0, 1] <class 'list'>\n",
            "(0, 1) <class 'tuple'>\n",
            "0 1\n"
          ]
        }
      ]
    },
    {
      "cell_type": "markdown",
      "metadata": {
        "id": "6iiCUATF0j97"
      },
      "source": [
        "##Associação"
      ]
    },
    {
      "cell_type": "code",
      "metadata": {
        "colab": {
          "base_uri": "https://localhost:8080/"
        },
        "id": "jiF5nCBvz79I",
        "outputId": "a13de94d-b8e4-45a4-8dac-7b981edf169e"
      },
      "source": [
        "try:\n",
        "  tupla[0] = 9\n",
        "except TypeError:\n",
        "  print(\"Você está tentando associar um valor a uma tupla, e isso não pode!!!\")\n",
        "except Exception as e:\n",
        "  print(e)"
      ],
      "execution_count": null,
      "outputs": [
        {
          "output_type": "stream",
          "name": "stdout",
          "text": [
            "Você está tentando associar um valor a uma tupla, e isso não pode!!!\n"
          ]
        }
      ]
    },
    {
      "cell_type": "markdown",
      "metadata": {
        "id": "y1nXmD4E0jOE"
      },
      "source": [
        "##Lista"
      ]
    },
    {
      "cell_type": "code",
      "metadata": {
        "colab": {
          "base_uri": "https://localhost:8080/"
        },
        "id": "B438EHOH0AlQ",
        "outputId": "8bd955db-556a-440c-85a3-f9757b889d7b"
      },
      "source": [
        "lista[1] = variavel2\n",
        "print(lista)"
      ],
      "execution_count": null,
      "outputs": [
        {
          "output_type": "stream",
          "name": "stdout",
          "text": [
            "[0, 100]\n"
          ]
        }
      ]
    },
    {
      "cell_type": "markdown",
      "metadata": {
        "id": "Rsr84asv0hmn"
      },
      "source": [
        "##Dicionário"
      ]
    },
    {
      "cell_type": "code",
      "metadata": {
        "colab": {
          "base_uri": "https://localhost:8080/"
        },
        "id": "dFUFITL-0H9S",
        "outputId": "d11d6e06-7342-4018-e6fa-b61634923cfd"
      },
      "source": [
        "print(dicionario['a'])\n",
        "dicionario['b'] = variavel1\n",
        "print(dicionario)\n",
        "dicionario.update({'c':variavel2})\n",
        "print(dicionario)"
      ],
      "execution_count": null,
      "outputs": [
        {
          "output_type": "stream",
          "name": "stdout",
          "text": [
            "0\n",
            "{'a': 0, 'b': 0.9}\n",
            "{'a': 0, 'b': 0.9, 'c': 100}\n"
          ]
        }
      ]
    },
    {
      "cell_type": "markdown",
      "metadata": {
        "id": "qcvIXLbd0wvL"
      },
      "source": [
        "#Threads"
      ]
    },
    {
      "cell_type": "code",
      "metadata": {
        "id": "BnHFhqhQ0wLw"
      },
      "source": [
        "from threading import Thread, Lock\n",
        "import random"
      ],
      "execution_count": null,
      "outputs": []
    },
    {
      "cell_type": "code",
      "metadata": {
        "id": "pLex4n6E04UA"
      },
      "source": [
        "def soma(a : list, b : list, c :list, index : int):\n",
        "  c[index] = a[index] + b[index]"
      ],
      "execution_count": null,
      "outputs": []
    },
    {
      "cell_type": "code",
      "metadata": {
        "cellView": "form",
        "id": "L8763edI1sLJ"
      },
      "source": [
        "tamanho_vetor = 1000#@param {type:\"integer\"}"
      ],
      "execution_count": null,
      "outputs": []
    },
    {
      "cell_type": "code",
      "metadata": {
        "id": "WEJn0Y_h1HoA"
      },
      "source": [
        "vetor1 = [i for i in range(tamanho_vetor)]\n",
        "vetor2 = vetor1[::-1]\n",
        "vetor3 = [0 for i in range(len(vetor1))]\n",
        "\n",
        "def run_threads(vetor1, vetor2, vetor3):\n",
        "  thread_pool = []\n",
        "  for i in range(tamanho_vetor):\n",
        "    thread_pool.append(Thread(target=soma, args=(vetor1,vetor2, vetor3, i)))\n",
        "\n",
        "  for thread in thread_pool:\n",
        "    thread.start()\n",
        "\n",
        "def run(vetor1, vetor2, vetor3):\n",
        "  for i in range(tamanho_vetor):\n",
        "    soma(vetor1,vetor2,vetor3, i)"
      ],
      "execution_count": null,
      "outputs": []
    },
    {
      "cell_type": "code",
      "metadata": {
        "colab": {
          "base_uri": "https://localhost:8080/"
        },
        "id": "0fY4yZrv2hKA",
        "outputId": "2d7db016-41af-4509-e8f4-3ea6b411639c"
      },
      "source": [
        "\n",
        "%timeit run_threads(vetor1, vetor2, vetor3)\n",
        "%timeit run(vetor1, vetor2, vetor3)\n",
        "\n",
        "print(vetor3)"
      ],
      "execution_count": null,
      "outputs": [
        {
          "output_type": "stream",
          "name": "stdout",
          "text": [
            "[0, 0, 0, 0, 0, 0, 0, 0, 0, 0, 0, 0, 0, 0, 0, 0, 0, 0, 0, 0, 0, 0, 0, 0, 0, 0, 0, 0, 0, 0, 0, 0, 0, 0, 0, 0, 0, 0, 0, 0, 0, 0, 0, 0, 0, 0, 0, 0, 0, 0, 0, 0, 0, 0, 0, 0, 0, 0, 0, 0, 0, 0, 0, 0, 0, 0, 0, 0, 0, 0, 0, 0, 0, 0, 0, 0, 0, 0, 0, 0, 0, 0, 0, 0, 0, 0, 0, 0, 0, 0, 0, 0, 0, 0, 0, 0, 0, 0, 0, 0, 0, 0, 0, 0, 0, 0, 0, 0, 0, 0, 0, 0, 0, 0, 0, 0, 0, 0, 0, 0, 0, 0, 0, 0, 0, 0, 0, 0, 0, 0, 0, 0, 0, 0, 0, 0, 0, 0, 0, 0, 0, 0, 0, 0, 0, 0, 0, 0, 0, 0, 0, 0, 0, 0, 0, 0, 0, 0, 0, 0, 0, 0, 0, 0, 0, 0, 0, 0, 0, 0, 0, 0, 0, 0, 0, 0, 0, 0, 0, 0, 0, 0, 0, 0, 0, 0, 0, 0, 0, 0, 0, 0, 0, 0, 0, 0, 0, 0, 0, 0, 0, 0, 0, 0, 0, 0, 0, 0, 0, 0, 0, 0, 0, 0, 0, 0, 0, 0, 0, 0, 0, 0, 0, 0, 0, 0, 0, 0, 0, 0, 0, 0, 0, 0, 0, 0, 0, 0, 0, 0, 0, 0, 0, 0, 0, 0, 0, 0, 0, 0, 0, 0, 0, 0, 0, 0, 0, 0, 0, 0, 0, 0, 0, 0, 0, 0, 0, 0, 0, 0, 0, 0, 0, 0, 0, 0, 0, 0, 0, 0, 0, 0, 0, 0, 0, 0, 0, 0, 0, 0, 0, 0, 0, 0, 0, 0, 0, 0, 0, 0, 0, 0, 0, 0, 0, 0, 0, 0, 0, 0, 0, 0, 0, 0, 0, 0, 0, 0, 0, 0, 0, 0, 0, 0, 0, 0, 0, 0, 0, 0, 0, 0, 0, 0, 0, 0, 0, 0, 0, 0, 0, 0, 0, 0, 0, 0, 0, 0, 0, 0, 0, 0, 0, 0, 0, 0, 0, 0, 0, 0, 0, 0, 0, 0, 0, 0, 0, 0, 0, 0, 0, 0, 0, 0, 0, 0, 0, 0, 0, 0, 0, 0, 0, 0, 0, 0, 0, 0, 0, 0, 0, 0, 0, 0, 0, 0, 0, 0, 0, 0, 0, 0, 0, 0, 0, 0, 0, 0, 0, 0, 0, 0, 0, 0, 0, 0, 0, 0, 0, 0, 0, 0, 0, 0, 0, 0, 0, 0, 0, 0, 0, 0, 0, 0, 0, 0, 0, 0, 0, 0, 0, 0, 0, 0, 0, 0, 0, 0, 0, 0, 0, 0, 0, 0, 0, 0, 0, 0, 0, 0, 0, 0, 0, 0, 0, 0, 0, 0, 0, 0, 0, 0, 0, 0, 0, 0, 0, 0, 0, 0, 0, 0, 0, 0, 0, 0, 0, 0, 0, 0, 0, 0, 0, 0, 0, 0, 0, 0, 0, 0, 0, 0, 0, 0, 0, 0, 0, 0, 0, 0, 0, 0, 0, 0, 0, 0, 0, 0, 0, 0, 0, 0, 0, 0, 0, 0, 0, 0, 0, 0, 0, 0, 0, 0, 0, 0, 0, 0, 0, 0, 0, 0, 0, 0, 0, 0, 0, 0, 0, 0, 0, 0, 0, 0, 0, 0, 0, 0, 0, 0, 0, 0, 0, 0, 0, 0, 0, 0, 0, 0, 0, 0, 0, 0, 0, 0, 0, 0, 0, 0, 0, 0, 0, 0, 0, 0, 0, 0, 0, 0, 0, 0, 0, 0, 0, 0, 0, 0, 0, 0, 0, 0, 0, 0, 0, 0, 0, 0, 0, 0, 0, 0, 0, 0, 0, 0, 0, 0, 0, 0, 0, 0, 0, 0, 0, 0, 0, 0, 0, 0, 0, 0, 0, 0, 0, 0, 0, 0, 0, 0, 0, 0, 0, 0, 0, 0, 0, 0, 0, 0, 0, 0, 0, 0, 0, 0, 0, 0, 0, 0, 0, 0, 0, 0, 0, 0, 0, 0, 0, 0, 0, 0, 0, 0, 0, 0, 0, 0, 0, 0, 0, 0, 0, 0, 0, 0, 0, 0, 0, 0, 0, 0, 0, 0, 0, 0, 0, 0, 0, 0, 0, 0, 0, 0, 0, 0, 0, 0, 0, 0, 0, 0, 0, 0, 0, 0, 0, 0, 0, 0, 0, 0, 0, 0, 0, 0, 0, 0, 0, 0, 0, 0, 0, 0, 0, 0, 0, 0, 0, 0, 0, 0, 0, 0, 0, 0, 0, 0, 0, 0, 0, 0, 0, 0, 0, 0, 0, 0, 0, 0, 0, 0, 0, 0, 0, 0, 0, 0, 0, 0, 0, 0, 0, 0, 0, 0, 0, 0, 0, 0, 0, 0, 0, 0, 0, 0, 0, 0, 0, 0, 0, 0, 0, 0, 0, 0, 0, 0, 0, 0, 0, 0, 0, 0, 0, 0, 0, 0, 0, 0, 0, 0, 0, 0, 0, 0, 0, 0, 0, 0, 0, 0, 0, 0, 0, 0, 0, 0, 0, 0, 0, 0, 0, 0, 0, 0, 0, 0, 0, 0, 0, 0, 0, 0, 0, 0, 0, 0, 0, 0, 0, 0, 0, 0, 0, 0, 0, 0, 0, 0, 0, 0, 0, 0, 0, 0, 0, 0, 0, 0, 0, 0, 0, 0, 0, 0, 0, 0, 0, 0, 0, 0, 0, 0, 0, 0, 0, 0, 0, 0, 0, 0, 0, 0, 0, 0, 0, 0, 0, 0, 0, 0, 0, 0, 0, 0, 0, 0, 0, 0, 0, 0, 0, 0, 0, 0, 0, 0, 0, 0, 0, 0, 0, 0, 0, 0, 0, 0, 0, 0, 0, 0, 0, 0, 0, 0, 0, 0, 0, 0, 0, 0, 0, 0, 0, 0, 0, 0, 0, 0, 0, 0, 0, 0, 0, 0, 0, 0, 0, 0, 0, 0, 0, 0, 0, 0, 0, 0, 0, 0, 0, 0, 0, 0, 0, 0, 0, 0, 0, 0, 0, 0, 0, 0, 0, 0, 0, 0, 0, 0, 0, 0, 0, 0, 0, 0, 0, 0, 0, 0]\n"
          ]
        }
      ]
    },
    {
      "cell_type": "markdown",
      "metadata": {
        "id": "bTMSM4Wr3rry"
      },
      "source": [
        "##Exemplo bobo que não funciona"
      ]
    },
    {
      "cell_type": "code",
      "metadata": {
        "colab": {
          "base_uri": "https://localhost:8080/"
        },
        "id": "K3idWGUp3LXC",
        "outputId": "c76a6c6f-1438-4775-edc6-11db964cfbaa"
      },
      "source": [
        "def mudar_valor(v):\n",
        "  v = 4\n",
        "  #return v #se tirar o comentário dessa linha, o valor muda (através do return)\n",
        "\n",
        "var = 5\n",
        "mudar_valor(var)\n",
        "print(var)"
      ],
      "execution_count": null,
      "outputs": [
        {
          "output_type": "stream",
          "name": "stdout",
          "text": [
            "5\n"
          ]
        }
      ]
    },
    {
      "cell_type": "markdown",
      "metadata": {
        "id": "nARYjXVn4F-6"
      },
      "source": [
        "##Exemplo bobo que agora funciona"
      ]
    },
    {
      "cell_type": "code",
      "metadata": {
        "colab": {
          "base_uri": "https://localhost:8080/"
        },
        "id": "XAJHjIKL3uCY",
        "outputId": "b7f52ddf-0e1f-4776-b03f-00a99b7236b9"
      },
      "source": [
        "def mudar_valor(v):\n",
        "  v[0] = \"abacaxi\"\n",
        "\n",
        "var = 5\n",
        "var = [var]\n",
        "mudar_valor(var)\n",
        "var = var[0]\n",
        "print(var)"
      ],
      "execution_count": null,
      "outputs": [
        {
          "output_type": "stream",
          "name": "stdout",
          "text": [
            "abacaxi\n"
          ]
        }
      ]
    },
    {
      "cell_type": "markdown",
      "metadata": {
        "id": "Qe5wigvE4Kng"
      },
      "source": [
        "##Referências são um problema em python..."
      ]
    },
    {
      "cell_type": "markdown",
      "metadata": {
        "id": "qBwR8nJVXRbH"
      },
      "source": [
        "##Vamos tentar criar uma matriz 5x5 e aplicar o valor 1 na primeira posição dela"
      ]
    },
    {
      "cell_type": "code",
      "metadata": {
        "colab": {
          "base_uri": "https://localhost:8080/"
        },
        "id": "7T4pQIRrW2RJ",
        "outputId": "2f4e4526-fb90-4ebd-b82d-7e689705a558"
      },
      "source": [
        "p = [[]]*5\n",
        "p[0] = 2\n",
        "print(p)"
      ],
      "execution_count": null,
      "outputs": [
        {
          "output_type": "stream",
          "name": "stdout",
          "text": [
            "[2, [], [], [], []]\n"
          ]
        }
      ]
    },
    {
      "cell_type": "markdown",
      "metadata": {
        "id": "-ZW2N4oIZAHv"
      },
      "source": [
        "Aparentemente tudo certo..."
      ]
    },
    {
      "cell_type": "code",
      "metadata": {
        "colab": {
          "base_uri": "https://localhost:8080/"
        },
        "id": "wzLOS6y0ZB2X",
        "outputId": "d6681b84-73fa-4014-c9bf-5403aed70a5b"
      },
      "source": [
        "p[1].append(1)\n",
        "print(p)"
      ],
      "execution_count": null,
      "outputs": [
        {
          "output_type": "stream",
          "name": "stdout",
          "text": [
            "[2, [1], [1], [1], [1]]\n"
          ]
        }
      ]
    },
    {
      "cell_type": "markdown",
      "metadata": {
        "id": "eqgzCCSaXwzQ"
      },
      "source": [
        "##O Exemplo acima mostra como **não** criar uma matriz. \n",
        "Esse erro é muito comum quando começa a se programar em python. Ele é causado pois as referências em python são passadas através de uma lista (enquanto em C são ponteiros).\n",
        "O jeito certo de se fazer é:"
      ]
    },
    {
      "cell_type": "code",
      "metadata": {
        "colab": {
          "base_uri": "https://localhost:8080/"
        },
        "id": "ocv1ND6-Xz-I",
        "outputId": "91aff271-4f97-49bb-ec1a-1a21c0e7afc5"
      },
      "source": [
        "p = [[] for i in range(5)]\n",
        "p[0] = 2\n",
        "print(p)"
      ],
      "execution_count": null,
      "outputs": [
        {
          "output_type": "stream",
          "name": "stdout",
          "text": [
            "[2, [], [], [], []]\n"
          ]
        }
      ]
    },
    {
      "cell_type": "code",
      "metadata": {
        "colab": {
          "base_uri": "https://localhost:8080/"
        },
        "id": "y2LjGGl2ZSZP",
        "outputId": "a7599c07-9f9b-4de9-f804-21c7b4f94c89"
      },
      "source": [
        "p[1].append(1)\n",
        "print(p)"
      ],
      "execution_count": null,
      "outputs": [
        {
          "output_type": "stream",
          "name": "stdout",
          "text": [
            "[2, [1], [], [], []]\n"
          ]
        }
      ]
    },
    {
      "cell_type": "markdown",
      "metadata": {
        "id": "_U3l5v-UYeOW"
      },
      "source": [
        "##.copy()"
      ]
    },
    {
      "cell_type": "code",
      "metadata": {
        "colab": {
          "base_uri": "https://localhost:8080/"
        },
        "id": "KX2o464b4NlZ",
        "outputId": "58357a12-4126-4866-8c22-49c5772111f3"
      },
      "source": [
        "def mudar_valor(v):\n",
        "  p = v.copy()\n",
        "  p[0] = \"abacaxi\"\n",
        "  return p\n",
        "\n",
        "var = 5\n",
        "var = [var]\n",
        "p = mudar_valor(var)\n",
        "var = var[0]\n",
        "print(var, p)"
      ],
      "execution_count": null,
      "outputs": [
        {
          "output_type": "stream",
          "name": "stdout",
          "text": [
            "5 ['abacaxi']\n"
          ]
        }
      ]
    },
    {
      "cell_type": "markdown",
      "metadata": {
        "id": "EA_C1vUu6iLo"
      },
      "source": [
        "##Exemplo erro"
      ]
    },
    {
      "cell_type": "code",
      "metadata": {
        "id": "I9MSYs_N6e0A"
      },
      "source": [
        "def delete(vetor, index):\n",
        "  try:\n",
        "    print('>',index, len(vetor))\n",
        "    del vetor[index]\n",
        "  except Exception as e:\n",
        "    print(e)"
      ],
      "execution_count": null,
      "outputs": []
    },
    {
      "cell_type": "code",
      "metadata": {
        "colab": {
          "base_uri": "https://localhost:8080/"
        },
        "id": "g-m1jHep6fvI",
        "outputId": "0e3f04ba-98bb-4a2a-c2a2-069205ca39c2"
      },
      "source": [
        "vetor1 = [i for i in range(tamanho_vetor)]\n",
        "\n",
        "thread_pool = []\n",
        "for i in range(tamanho_vetor//2):\n",
        "  thread_pool.append(Thread(target=delete, args=(vetor1,i)))\n",
        "\n",
        "for thread in thread_pool:\n",
        "  thread.start()\n"
      ],
      "execution_count": null,
      "outputs": [
        {
          "output_type": "stream",
          "name": "stdout",
          "text": [
            "> 0 1000\n",
            "> 1 999\n",
            "> 2 998\n",
            "> 3 997\n",
            "> 4 996\n",
            "> 5 995\n",
            "> 6 994\n",
            "> 7 993\n",
            "> 8 992\n",
            "> 9 991\n",
            "> 10 990\n",
            "> 11 989\n",
            "> 12 988\n",
            "> 13 987\n",
            "> 14 986\n",
            "> >15>  985\n",
            "17 985\n",
            " 16 985\n",
            "> 18 982\n",
            "> 19 981\n",
            "> 20 980\n",
            "> 21 979\n",
            "> 22 978\n",
            "> 23 977\n",
            "> 24 976\n",
            "> 25 975\n",
            "> 26 974\n",
            "> 27 973\n",
            ">> 29 972\n",
            " 28 972\n",
            ">> 30 31 970\n",
            " >970\n",
            " 32 969\n",
            "> 33 967\n",
            "> 34 966\n",
            "> 35 965\n",
            "> 36 964\n",
            "> 37 963\n",
            "> 38 962\n",
            "> 39 961\n",
            ">> 40 960\n",
            " 41 960\n",
            "> 42 958\n",
            "> 43 957\n",
            "> 44 956\n",
            ">> 46 955\n",
            " 45 955\n",
            ">> 48 953\n",
            "> 49 952\n",
            "> 50 951\n",
            "> 51 950\n",
            " > 5247 953\n",
            " 949\n",
            "> 53 947\n",
            "> 54 946\n",
            "> 55 945\n",
            "> 56 944\n",
            "> 57 943\n",
            "> 58 942\n",
            ">> 60 941\n",
            " 59 941\n",
            "> 61 939\n",
            "> 62 938\n",
            "> 63 937\n",
            "> 64 936\n",
            ">> 66 935\n",
            " 65 935\n",
            "> 67 933\n",
            "> 68 932\n",
            ">> 70 931\n",
            "> 69 931\n",
            "> 71 930\n",
            ">  72 929\n",
            "73 928\n",
            "> 74 926\n",
            "> 75 925\n",
            "> 76 924\n",
            "> 77 923\n",
            "> 78 922\n",
            "> 79 921\n",
            "> >80 920\n",
            "> 81 920\n",
            " 82> 83 918\n",
            " 919\n",
            "> 84 916\n",
            "> > 86 915\n",
            "85 915\n",
            "> 87 913\n",
            "> 88 912\n",
            "> 89 911\n",
            "> 90 910\n",
            "> 91 909\n",
            "> 92 908\n",
            "> 93 907\n",
            "> 94 906\n",
            "> 95 905\n",
            "> 96 904\n",
            "> 97 903\n",
            "> 98 902\n",
            ">> 99 901\n",
            " >100  901\n",
            ">> 103 899\n",
            " 102 899\n",
            "101> 104 897 900\n",
            "\n",
            "> 105 895\n",
            "> 106 894\n",
            "> 107 893\n",
            "> 108 892\n",
            "> 109 891\n",
            "> 110 890\n",
            "> 111 889\n",
            "> 112 888\n",
            "> 113 887\n",
            "> 114 886\n",
            "> 115 885\n",
            "> 116 884\n",
            "> 117 883\n",
            "> 118 882\n",
            "> 119 881\n",
            "> 120 880\n",
            "> 121 879\n",
            "> 122 878\n",
            "> 123 877\n",
            "> 124 876\n",
            "> 125 875\n",
            "> 126 874\n",
            "> 127 873\n",
            "> 128 872\n",
            ">> 129 872\n",
            " 130 871\n",
            "> 131 869\n",
            "> 132 868\n",
            "> 133 867\n",
            "> 134 866\n",
            "> 135 865\n",
            "> 136 864\n",
            "> 137 863\n",
            "> 138 862\n",
            "> 139 861\n",
            "> 140 860\n",
            "> > 142 859\n",
            "141 859\n",
            "> 143 857\n",
            "> 144 856\n",
            "> 145 855\n",
            "> 146 854\n",
            "> 147 853\n",
            ">> 149 852\n",
            ">  > 151 851\n",
            "150 851\n",
            "148 852\n",
            "> 152 848\n",
            "> 153 847\n",
            "> 154 846\n",
            "> 155 845\n",
            "> 156 844\n",
            "> 157 843\n",
            "> 158 842> 159 842\n",
            "\n",
            "> 160 841\n",
            "> 161 839\n",
            "> 162 838\n",
            "> 163 837\n",
            "> 164 836\n",
            "> 165 835\n",
            "> > 167 834\n",
            "166> 168 833\n",
            " 834> 169 832\n",
            "\n",
            "> 170 831\n",
            "> 171 829\n",
            "> 172 828\n",
            "> 173 827\n",
            "> 174 826\n",
            "> 175 825\n",
            "> 176 824\n",
            ">> 178 823\n",
            " 177 823\n",
            "> 179 821\n",
            "> 180 820\n",
            "> 181 819\n",
            "> 182 818\n",
            "> 183 817\n",
            ">> 185 816\n",
            " 184 816\n",
            "> 186 814\n",
            "> 187 813\n",
            ">> 189  812> 190\n",
            "188 812\n",
            " 812\n",
            "> > 192 809\n",
            "191 809\n",
            "> 193 807\n",
            "> 194 806\n",
            "> 195 805\n",
            "> 196 804\n",
            ">> 198 803\n",
            " 197 803\n",
            "> 199 801\n",
            "> 200 800\n",
            "> 201 799\n",
            ">> 203 798\n",
            " 202 798\n",
            "> 204 796\n",
            "> 205 795\n",
            ">> 207 794\n",
            "> 206 794\n",
            "> 209 792\n",
            " 208 793\n",
            "> 210 790\n",
            "> 211 789\n",
            "> 212 788\n",
            "> 213 787\n",
            "> 214 786\n",
            "> 215 785\n",
            "> 216 784\n",
            "> 217 783\n",
            "> 218 782\n",
            "> 219 781\n",
            "> 220 780\n",
            "> 221 779\n",
            "> 222 778\n",
            "> 223 777>\n",
            " 224 777\n",
            ">> 225 >  775\n",
            "227 775\n",
            "226> 775\n",
            " 228 773\n",
            ">> 230 771\n",
            "> 231 770\n",
            " > 232 769\n",
            "229 >771\n",
            " >233 768\n",
            ">  235 766\n",
            "234 767\n",
            "> 236 764\n",
            "> 237 764\n",
            ">>  >239 762238\n",
            "  762\n",
            "240 762\n",
            "> 241 759\n",
            "> 242 758\n",
            "> > 244 757\n",
            "243 757\n",
            "> 245 755\n",
            "> > 247 754\n",
            "246 754\n",
            "> 248 752\n",
            "> > 249 250 751\n",
            "751\n",
            "> 251 749\n",
            "> 252 748\n",
            "> 253 747\n",
            "> 254 746\n",
            "> 255 745\n",
            "> 256 744\n",
            "> 257 743\n",
            ">> 258 742\n",
            " 259> 742 260\n",
            " 741\n",
            "> 261 739\n",
            "> 262 > 263 738\n",
            "738\n",
            "> 264 736\n",
            "> 265 735\n",
            ">> 267 734\n",
            " 266 734\n",
            "> 268 732\n",
            "> > 270 731\n",
            "> 271 730\n",
            "269> 272 729\n",
            " 731\n",
            ">> 274 273 727\n",
            " 727\n",
            "> 275 725\n",
            ">> 277 724\n",
            " 276 724\n",
            "> 278 722\n",
            "> 279 721\n",
            "> 280 720\n",
            "> 281 719\n",
            "> 282 718\n",
            "> 283 717\n",
            "> 284 716\n",
            "> 285 715\n",
            "> 286 714\n",
            "> 287 713\n",
            "> 288 712\n",
            "> 289 711\n",
            "> 290 710\n",
            ">> 292 709\n",
            " 291 709\n",
            "> 293 707\n",
            "> 294 706\n",
            "> 295 705\n",
            "> 296 704\n",
            "> 297 703\n",
            "> 298 702\n",
            "> 299 701\n",
            "> 300 700\n",
            "> 301 699\n",
            "> 302 698\n",
            "> 303 697\n",
            "> 304 696\n",
            ">> 306 695\n",
            "> 307 694\n",
            " 305 695\n",
            "> 308 692\n",
            "> 309 691\n",
            "> 310 690\n",
            "> >311 689\n",
            "> 313 688\n",
            " 312 689\n",
            "> 314 686\n",
            "> 315 685\n",
            "> 316 684\n",
            "> 317 683\n",
            "> 318 682\n",
            "> >319  320 681\n",
            "681\n",
            ">>  321 679\n",
            "322 679\n",
            "> > 324 677\n",
            "323 677\n",
            "> 325 675\n",
            "> > 327 674\n",
            "326 674\n",
            ">> 329 672\n",
            " > 330 671\n",
            "328 672\n",
            "> 331 669\n",
            "> 332 668\n",
            "> 333 667\n",
            "> 334 666\n",
            "> 335 665\n",
            "> 336 664\n",
            "> 337 663\n",
            "> 338 662\n",
            "> > 340 661\n",
            "339 661\n",
            "> 341 659\n",
            "> 342 658\n",
            "> 343 657\n",
            "> 344 656\n",
            "> 345>  346 655\n",
            "> > 655\n",
            "348 654\n",
            "347 > 349 652\n",
            "654\n",
            "> 350 650\n",
            "> 351 649\n",
            "> 352 648\n",
            "> 353 647\n",
            "> 354 646\n",
            "> 355 645\n",
            "> 356 644\n",
            "> 357 643\n",
            "> 358 642\n",
            "> 359 641\n",
            "> 360 640\n",
            "> 361 639\n",
            "> > 363 638362> 638\n",
            " \n",
            "364> 365 638\n",
            ">  > 367 635\n",
            "636\n",
            "366 635\n",
            "> 368 632\n",
            "> 369 631\n",
            ">>  >371 630\n",
            ">  370 630\n",
            "373>372 630\n",
            " 374 628\n",
            " 629\n",
            "> 375 625\n",
            "> 376 624\n",
            "> 377 623\n",
            "> 378 622\n",
            "> 379 621\n",
            "> > 381 620\n",
            "> 382 619\n",
            "> 383 618\n",
            "380 620\n",
            ">>  384 385 616\n",
            "616\n",
            "> 386 614\n",
            "> 387 613\n",
            "> 388 612\n",
            "> 389 611\n",
            ">> 391 610\n",
            " > 392 609\n",
            "390> 610\n",
            " > 394 607\n",
            "393 608\n",
            "> 395 605\n",
            "> 396 604\n",
            "> 397 603\n",
            "> 398 602\n",
            "> 399 601>\n",
            " 400 601\n",
            "> 401 599\n",
            "> 402 598\n",
            "> 403 597\n",
            "> 404 596\n",
            "> 405 595\n",
            "> 406 595\n",
            "> 407 593\n",
            "> 408 592\n",
            "> 409> 410 591\n",
            " 591\n",
            "> 411 589\n",
            "> 412 588\n",
            "> > 414 587\n",
            "413 587\n",
            "> > 416 585\n",
            "415 585\n",
            ">> 418 583\n",
            " 417 583\n",
            "> 419 581\n",
            ">> 420 580\n",
            "> 422 579\n",
            " 421 580\n",
            "> 423 577\n",
            "> 424 576\n",
            "> 425 575\n",
            "> 426 574\n",
            "> 427 573\n",
            "> 428 572\n",
            ">> 430 571\n",
            "> 431 570\n",
            " > 432429 571\n",
            " 569\n",
            "> 433 567\n",
            "> 434 566\n",
            "> 435 565\n",
            "> 436 564\n",
            "> > 437 563\n",
            "> 439 562\n",
            "438>  563\n",
            "> 441 560\n",
            "440 561\n",
            "> 442 558\n",
            "> 443 557\n",
            "> 444 556\n",
            "> 445 555\n",
            "> 446 554\n",
            "> 447 553\n",
            "> 448 552\n",
            "> 449 551\n",
            "> 450 550\n",
            "> 451 549\n",
            "> 452 548\n",
            "> 453 547\n",
            "> 454 546\n",
            "> 455 > 456 545\n",
            ">545 > 458 544\n",
            "\n",
            "457 544\n",
            "> 459 541\n",
            "> >460> 461 540\n",
            "> 462 540\n",
            ">  463 539\n",
            " 464 538\n",
            "> 465 536\n",
            "540\n",
            "> 466 534\n",
            "> 467 533\n",
            "> 468 532\n",
            "> 469 531\n",
            "> 470 530>\n",
            "> 472 529\n",
            "> 473 528\n",
            "> 474 527\n",
            " 471 530\n",
            "> > 476 525\n",
            "475 525\n",
            ">> 478 523\n",
            " > 479 522\n",
            "477 523\n",
            "> 480 520\n",
            "> 481 519\n",
            "> 482 518\n",
            ">> 484 517\n",
            " >483 517\n",
            " 485 516\n",
            ">> 487 514\n",
            "> 488 513\n",
            "> 489 512\n",
            ">> 491 511\n",
            " 490 511\n",
            " 486 514\n",
            "> 492 508> \n",
            "493> 494 507\n",
            " 508\n",
            "> 495 > 496 505\n",
            "505\n",
            "> 497 503\n",
            "> 498 502\n",
            "> 499 501\n"
          ]
        }
      ]
    },
    {
      "cell_type": "markdown",
      "metadata": {
        "id": "WhlIFbPw6co5"
      },
      "source": [
        "##Exemplo Mutex"
      ]
    },
    {
      "cell_type": "code",
      "metadata": {
        "id": "j6fIQFTe5mbA"
      },
      "source": [
        "mutex = Lock()\n",
        "def delete(vetor, index):\n",
        "  mutex.acquire()\n",
        "  print('>',index, len(vetor))\n",
        "  del vetor[index]\n",
        "  mutex.release()"
      ],
      "execution_count": null,
      "outputs": []
    },
    {
      "cell_type": "code",
      "metadata": {
        "colab": {
          "base_uri": "https://localhost:8080/"
        },
        "id": "JDBhb0Kf5jqZ",
        "outputId": "6fa50dbe-bbee-44c7-ec40-ea7652e6317b"
      },
      "source": [
        "vetor1 = [i for i in range(tamanho_vetor)]\n",
        "\n",
        "thread_pool = []\n",
        "for i in range(tamanho_vetor//2):\n",
        "  thread_pool.append(Thread(target=delete, args=(vetor1,i)))\n",
        "\n",
        "for thread in thread_pool:\n",
        "  thread.start()"
      ],
      "execution_count": null,
      "outputs": [
        {
          "output_type": "stream",
          "name": "stdout",
          "text": [
            "> 0 1000\n",
            "> 1 999\n",
            "> 2 998\n",
            "> 3 997\n",
            "> 4 996\n",
            "> 5 995\n",
            "> 6 994\n",
            "> 7 993\n",
            "> 8 992\n",
            "> 9 991\n",
            "> 10 990\n",
            "> 11 989\n",
            "> 12 988\n",
            "> 13 987\n",
            "> 14 986\n",
            "> 15 985\n",
            "> 16 984\n",
            "> 17 983\n",
            "> 18 982\n",
            "> 19 981\n",
            "> 20 980\n",
            "> 21 979\n",
            "> 22 978\n",
            "> 23 977\n",
            "> 24 976\n",
            "> 25 975\n",
            "> 26 974\n",
            "> 27 973\n",
            "> 28 972\n",
            "> 29 971\n",
            "> 30 970\n",
            "> 31 969\n",
            "> 32 968\n",
            "> 33 967\n",
            "> 34 966\n",
            "> 35 965\n",
            "> 36 964\n",
            "> 37 963\n",
            "> 38 962\n",
            "> 39 961\n",
            "> 40 960\n",
            "> 41 959\n",
            "> 42 958\n",
            "> 43 957\n",
            "> 44 956\n",
            "> 45 955\n",
            "> 46 954\n",
            "> 47 953\n",
            "> 48 952\n",
            "> 49 951\n",
            "> 50 950\n",
            "> 51 949\n",
            "> 52 948\n",
            "> 53 947\n",
            "> 54 946\n",
            "> 55 945\n",
            "> 56 944\n",
            "> 57 943\n",
            "> 58 942\n",
            "> 60 941\n",
            "> 59 940\n",
            "> 61 939\n",
            "> 62 938\n",
            "> 63 937\n",
            "> 64 936\n",
            "> 65 935\n",
            "> 66 934\n",
            "> 67 933\n",
            "> 68 932\n",
            "> 69 931\n",
            "> 70 930\n",
            "> 71 929\n",
            "> 72 928\n",
            "> 73 927\n",
            "> 74 926\n",
            "> 75 925\n",
            "> 76 924\n",
            "> 77 923\n",
            "> 78 922\n",
            "> 79 921\n",
            "> 80 920\n",
            "> 81 919\n",
            "> 82 918\n",
            "> 83 917\n",
            "> 84 916\n",
            "> 85 915\n",
            "> 86 914\n",
            "> 87 913\n",
            "> 88 912\n",
            "> 89 911\n",
            "> 90 910\n",
            "> 91 909\n",
            "> 92 908\n",
            "> 93 907\n",
            "> 94 906\n",
            "> 95 905\n",
            "> 96 904\n",
            "> 97 903\n",
            "> 98 902\n",
            "> 99 901\n",
            "> 100 900\n",
            "> 101 899\n",
            "> 102 898\n",
            "> 103 897\n",
            "> 104 896\n",
            "> 105 895\n",
            "> 106 894\n",
            "> 107 893\n",
            "> 108 892\n",
            "> 109 891\n",
            "> 110 890\n",
            "> 111 889\n",
            "> 112 888\n",
            "> 113 887\n",
            "> 114 886\n",
            "> 115 885\n",
            "> 116 884\n",
            "> 117 883\n",
            "> 118 882\n",
            "> 119 881\n",
            "> 120 880\n",
            "> 121 879\n",
            "> 122 878\n",
            "> 123 877\n",
            "> 124 876\n",
            "> 125 875\n",
            "> 126 874\n",
            "> 127 873\n",
            "> 128 872\n",
            "> 129 871\n",
            "> 130 870\n",
            "> 131 869\n",
            "> 132 868\n",
            "> 133 867\n",
            "> 134 866\n",
            "> 135 865\n",
            "> 136 864\n",
            "> 137 863\n",
            "> 138 862\n",
            "> 139 861\n",
            "> 140 860\n",
            "> 141 859\n",
            "> 142 858\n",
            "> 143 857\n",
            "> 144 856\n",
            "> 145 855\n",
            "> 146 854\n",
            "> 147 853\n",
            "> 148 852\n",
            "> 149 851\n",
            "> 150 850\n",
            "> 151 849\n",
            "> 152 848\n",
            "> 153 847\n",
            "> 154 846\n",
            "> 155 845\n",
            "> 156 844\n",
            "> 157 843\n",
            "> 158 842\n",
            "> 159 841\n",
            "> 160 840\n",
            "> 161 839\n",
            "> 162 838\n",
            "> 163 837\n",
            "> 164 836\n",
            "> 165 835\n",
            "> 166 834\n",
            "> 167 833\n",
            "> 168 832\n",
            "> 169 831\n",
            "> 170 830\n",
            "> 171 829\n",
            "> 172 828\n",
            "> 173 827\n",
            "> 174 826\n",
            "> 175 825\n",
            "> 176 824\n",
            "> 177 823\n",
            "> 178 822\n",
            "> 179 821\n",
            "> 180 820\n",
            "> 181 819\n",
            "> 182 818\n",
            "> 183 817\n",
            "> 184 816\n",
            "> 185 815\n",
            "> 186 814\n",
            "> 187 813\n",
            "> 188 812\n",
            "> 189 811\n",
            "> 190 810\n",
            "> 191 809\n",
            "> 192 808\n",
            "> 193 807\n",
            "> 194 806\n",
            "> 195 805\n",
            "> 196 804\n",
            "> 197 803\n",
            "> 198 802\n",
            "> 199 801\n",
            "> 200 800\n",
            "> 201 799\n",
            "> 202 798\n",
            "> 204 797\n",
            "> 203 796\n",
            "> 205 795\n",
            "> 206 794\n",
            "> 207 793\n",
            "> 208 792\n",
            "> 209 791\n",
            "> 210 790\n",
            "> 211 789\n",
            "> 212 788\n",
            "> 213 787\n",
            "> 214 786\n",
            "> 215 785\n",
            "> 216 784\n",
            "> 217 783\n",
            "> 218 782\n",
            "> 219 781\n",
            "> 220 780\n",
            "> 221 779\n",
            "> 222 778\n",
            "> 223 777\n",
            "> 224 776\n",
            "> 225 775\n",
            "> 226 774\n",
            "> 227 773\n",
            "> 228 772\n",
            "> 229 771\n",
            "> 230 770\n",
            "> 231 769\n",
            "> 232 768\n",
            "> 233 767\n",
            "> 234 766\n",
            "> 235 765\n",
            "> 236 764\n",
            "> 237 763\n",
            "> 238 762\n",
            "> 239 761\n",
            "> 240 760\n",
            "> 241 759\n",
            "> 242 758\n",
            "> 243 757\n",
            "> 244 756\n",
            "> 245 755\n",
            "> 246 754\n",
            "> 247 753\n",
            "> 248 752\n",
            "> 249 751\n",
            "> 250 750\n",
            "> 251 749\n",
            "> 252 748\n",
            "> 253 747\n",
            "> 254 746\n",
            "> 255 745\n",
            "> 256 744\n",
            "> 257 743\n",
            "> 258 742\n",
            "> 259 741\n",
            "> 260 740\n",
            "> 261 739\n",
            "> 262 738\n",
            "> 263 737\n",
            "> 264 736\n",
            "> 265 735\n",
            "> 266 734\n",
            "> 267 733\n",
            "> 268 732\n",
            "> 269 731\n",
            "> 270 730\n",
            "> 271 729\n",
            "> 272 728\n",
            "> 273 727\n",
            "> 274 726\n",
            "> 275 725\n",
            "> 276 724\n",
            "> 277 723\n",
            "> 278 722\n",
            "> 279 721\n",
            "> 280 720\n",
            "> 281 719\n",
            "> 282 718\n",
            "> 283 717\n",
            "> 284 716\n",
            "> 285 715\n",
            "> 286 714\n",
            "> 287 713\n",
            "> 288 712\n",
            "> 289 711\n",
            "> 290 710\n",
            "> 291 709\n",
            "> 292 708\n",
            "> 293 707\n",
            "> 294 706\n",
            "> 295 705\n",
            "> 296 704\n",
            "> 297 703\n",
            "> 298 702\n",
            "> 299 701\n",
            "> 300 700\n",
            "> 301 699\n",
            "> 302 698\n",
            "> 303 697\n",
            "> 304 696\n",
            "> 305 695\n",
            "> 306 694\n",
            "> 307 693\n",
            "> 308 692\n",
            "> 309 691\n",
            "> 310 690\n",
            "> 311 689\n",
            "> 312 688\n",
            "> 313 687\n",
            "> 314 686\n",
            "> 315 685\n",
            "> 316 684\n",
            "> 317 683\n",
            "> 318 682\n",
            "> 319 681\n",
            "> 320 680\n",
            "> 321 679\n",
            "> 322 678\n",
            "> 323 677\n",
            "> 324 676\n",
            "> 325 675\n",
            "> 326 674\n",
            "> 327 673\n",
            "> 328 672\n",
            "> 329 671\n",
            "> 330 670\n",
            "> 331 669\n",
            "> 332 668\n",
            "> 333 667\n",
            "> 334 666\n",
            "> 335 665\n",
            "> 336 664\n",
            "> 337 663\n",
            "> 338 662\n",
            "> 339 661\n",
            "> 340 660\n",
            "> 341 659\n",
            "> 342 658\n",
            "> 343 657\n",
            "> 344 656\n",
            "> 345 655\n",
            "> 346 654\n",
            "> 347 653\n",
            "> 348 652\n",
            "> 349 651\n",
            "> 350 650\n",
            "> 351 649\n",
            "> 352 648\n",
            "> 355 647\n",
            "> 354 646\n",
            "> 353 645\n",
            "> 356 644\n",
            "> 357 643\n",
            "> 358 642\n",
            "> 359 641\n",
            "> 360 640\n",
            "> 361 639\n",
            "> 362 638\n",
            "> 363 637\n",
            "> 364 636\n",
            "> 365 635\n",
            "> 366 634\n",
            "> 367 633\n",
            "> 368 632\n",
            "> 370 631\n",
            "> 369 630\n",
            "> 371 629\n",
            "> 372 628\n",
            "> 373 627\n",
            "> 374 626\n",
            "> 375 625\n",
            "> 376 624\n",
            "> 377 623\n",
            "> 378 622\n",
            "> 379 621\n",
            "> 380 620\n",
            "> 381 619\n",
            "> 382 618\n",
            "> 383 617\n",
            "> 384 616\n",
            "> 385 615\n",
            "> 386 614\n",
            "> 387 613\n",
            "> 388 612\n",
            "> 389 611\n",
            "> 390 610\n",
            "> 391 609\n",
            "> 392 608\n",
            "> 393 607\n",
            "> 394 606\n",
            "> 395 605\n",
            "> 396 604\n",
            "> 397 603\n",
            "> 398 602\n",
            "> 399 601\n",
            "> 400 600\n",
            "> 401 599\n",
            "> 402 598\n",
            "> 403 597\n",
            "> 404 596\n",
            "> 405 595\n",
            "> 406 594\n",
            "> 407 593\n",
            "> 408 592\n",
            "> 409 591\n",
            "> 410 590\n",
            "> 411 589\n",
            "> 412 588\n",
            "> 413 587\n",
            "> 414 586\n",
            "> 415 585\n",
            "> 416 584\n",
            "> 417 583\n",
            "> 418 582\n",
            "> 419 581\n",
            "> 420 580\n",
            "> 421 579\n",
            "> 422 578\n",
            "> 423 577\n",
            "> 424 576\n",
            "> 425 575\n",
            "> 426 574\n",
            "> 427 573\n",
            "> 428 572\n",
            "> 429 571\n",
            "> 430 570\n",
            "> 431 569\n",
            "> 432 568\n",
            "> 433 567\n",
            "> 434 566\n",
            "> 435 565\n",
            "> 436 564\n",
            "> 437 563\n",
            "> 438 562\n",
            "> 439 561\n",
            "> 440 560\n",
            "> 441 559\n",
            "> 442 558\n",
            "> 443 557\n",
            "> 444 556\n",
            "> 445 555\n",
            "> 446 554\n",
            "> 447 553\n",
            "> 448 552\n",
            "> 449 551\n",
            "> 450 550\n",
            "> 451 549\n",
            "> 452 548\n",
            "> 453 547\n",
            "> 454 546\n",
            "> 455 545\n",
            "> 456 544\n",
            "> 457 543\n",
            "> 458 542\n",
            "> 459 541\n",
            "> 460 540\n",
            "> 461 539\n",
            "> 462 538\n",
            "> 463 537\n",
            "> 464 536\n",
            "> 465 535\n",
            "> 466 534\n",
            "> 467 533\n",
            "> 468 532\n",
            "> 469 531\n",
            "> 470 530\n",
            "> 471 529\n",
            "> 472 528\n",
            "> 473 527\n",
            "> 474 526\n",
            "> 475 525\n",
            "> 476 524\n",
            "> 477 523\n",
            "> 478 522\n",
            "> 479 521\n",
            "> 480 520\n",
            "> 481 519\n",
            "> 482 518\n",
            "> 483 517\n",
            "> 484 516\n",
            "> 485 515\n",
            "> 486 514\n",
            "> 487 513\n",
            "> 488 512\n",
            "> 489 511\n",
            "> 490 510\n",
            "> 491 509\n",
            "> 492 508\n",
            "> 493 507\n",
            "> 494 506\n",
            "> 495 505\n",
            "> 496 504\n",
            "> 497 503\n",
            "> 498 502\n"
          ]
        }
      ]
    }
  ]
}